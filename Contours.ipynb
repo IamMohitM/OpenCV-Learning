{
 "cells": [
  {
   "cell_type": "code",
   "execution_count": 1,
   "metadata": {},
   "outputs": [],
   "source": [
    "import cv2\n",
    "import numpy as np\n",
    "import matplotlib.pyplot as plt\n",
    "\n",
    "%matplotlib inline"
   ]
  },
  {
   "cell_type": "markdown",
   "metadata": {},
   "source": [
    "Contours are simply a curce joining continuous points(along the boundary), having same color and intensity. Contours are useful for shape analysis and object dection and recognition.\n",
    "\n",
    "- For better accuracy, use binary images. So before finding contours, apply threshold or canny edge detection.\n",
    "- findContours function modifies the source image. So if you want source image even after finding contours, already store it to some other variables\n",
    "- In OpenCV, finding a contour is like finding a white object from a black background. So, object to be found should be white and background should be black."
   ]
  },
  {
   "cell_type": "code",
   "execution_count": 41,
   "metadata": {},
   "outputs": [],
   "source": [
    "img = cv2.imread('images/binary.png')\n",
    "img_gray = cv2.cvtColor(img, cv2.COLOR_BGR2GRAY)\n",
    "ret, thresh = cv2.threshold(img_gray, 127, 255, 0)\n",
    "image, contours, hierarchy = cv2.findContours(thresh,cv2.RETR_TREE,cv2.CHAIN_APPROX_SIMPLE)"
   ]
  },
  {
   "cell_type": "code",
   "execution_count": 91,
   "metadata": {},
   "outputs": [],
   "source": [
    "#contours"
   ]
  },
  {
   "cell_type": "markdown",
   "metadata": {},
   "source": [
    "There are three arguments in cv2.findContours() function, first one is source image, second is contour retrieval mode, third is contour approximation method.  contours is a Python list of all the contours in the image. Each individual contour is a Numpy array of (x,y) coordinates of boundary points of the object."
   ]
  },
  {
   "cell_type": "markdown",
   "metadata": {},
   "source": [
    "##### How to draw contours\n",
    "\n",
    "To draw contours **cv2.drawContours()** is used. It can also be used to draw any shape provided you haeits boundary points. The function can also be used to draw any shape if provided with boundary points. Its first argument is source image, second argument is the contours which should be passed as a Python list, third argument is index of contours (useful when drawing individual contour. To draw all contours, pass -1) and remaining arguments are color, thickness etc."
   ]
  },
  {
   "cell_type": "code",
   "execution_count": 44,
   "metadata": {},
   "outputs": [
    {
     "data": {
      "image/png": "[encoded data removed]",
      "text/plain": [
       "<Figure size 432x288 with 1 Axes>"
      ]
     },
     "metadata": {},
     "output_type": "display_data"
    }
   ],
   "source": [
    "img_copy = img.copy()\n",
    "cv2.drawContours(img_copy, contours, -1, (255, 0, 0), 2)\n",
    "plt.imshow(img_copy);"
   ]
  },
  {
   "cell_type": "markdown",
   "metadata": {},
   "source": [
    "To draw Individual contours:"
   ]
  },
  {
   "cell_type": "code",
   "execution_count": 45,
   "metadata": {},
   "outputs": [
    {
     "data": {
      "image/png": "[encoded data removed]",
      "text/plain": [
       "<Figure size 432x288 with 1 Axes>"
      ]
     },
     "metadata": {},
     "output_type": "display_data"
    }
   ],
   "source": [
    "img_copy = img.copy()\n",
    "cv2.drawContours(img_copy, contours, 3, (255, 0, 0), 2) #Draws fourth contour\n",
    "plt.imshow(img_copy);"
   ]
  },
  {
   "cell_type": "code",
   "execution_count": 46,
   "metadata": {},
   "outputs": [
    {
     "data": {
      "image/png": "[encoded data removed]",
      "text/plain": [
       "<Figure size 432x288 with 1 Axes>"
      ]
     },
     "metadata": {},
     "output_type": "display_data"
    }
   ],
   "source": [
    "img_copy = img.copy()\n",
    "cnt = contours[3]\n",
    "cv2.drawContours(img_copy, [cnt], 0, (255, 0, 0), 2) #Draws fourth contour\n",
    "plt.imshow(img_copy);"
   ]
  },
  {
   "cell_type": "markdown",
   "metadata": {},
   "source": [
    "> Last two methods are same, but the seconds one is more useful."
   ]
  },
  {
   "cell_type": "markdown",
   "metadata": {},
   "source": [
    "##### Contour Approximation Method\n",
    "\n",
    "Third arg of **cv2.findContours()**\n",
    "\n",
    "We know that contours are the boundaries of a shape with same intensity. It stores (x,y) coordinates of the boundary of a shape. But does it store all the coordinates? That is specified by this contour approximation method. \n",
    "\n",
    "**cv2.CHAIN_APPROX_NONE** - all the boundary points are stored. But usually we don't need all the points. For instance, a contour of a stright line needs only two points.\n",
    "\n",
    "**cv2.CHAIN_APPROX_SIMPLE** - removes all redundant points and compresses the contour, thereby saving memory."
   ]
  },
  {
   "cell_type": "code",
   "execution_count": 79,
   "metadata": {},
   "outputs": [],
   "source": [
    "def plot_subplot(img1, img2, title1, title2):\n",
    "    plt.figure(figsize=(15, 6))\n",
    "    plt.subplot(121)\n",
    "    plt.imshow(img1, 'gray')\n",
    "    plt.title(title1)\n",
    "    plt.xticks([])\n",
    "    plt.yticks([]);\n",
    "\n",
    "    plt.subplot(122)\n",
    "    plt.imshow(img2, 'gray')\n",
    "    plt.title(title2)\n",
    "    plt.xticks([])\n",
    "    plt.yticks([]);"
   ]
  },
  {
   "cell_type": "code",
   "execution_count": 90,
   "metadata": {},
   "outputs": [
    {
     "data": {
      "image/png": "[encoded data removed]",
      "text/plain": [
       "<Figure size 1080x432 with 2 Axes>"
      ]
     },
     "metadata": {},
     "output_type": "display_data"
    }
   ],
   "source": [
    "img = cv2.imread('images/binary_rect.png')\n",
    "img = cv2.cvtColor(img, cv2.COLOR_BGR2GRAY)\n",
    "ret, img_thresh = cv2.threshold(img, 127, 255, 0)\n",
    "image1, contours_none, hierarchy = cv2.findContours(img_thresh,cv2.RETR_TREE,cv2.CHAIN_APPROX_NONE)\n",
    "image2, contours_simple, hierarchy = cv2.findContours(img_thresh,cv2.RETR_TREE,cv2.CHAIN_APPROX_SIMPLE)\n",
    "img_c1 = img.copy()\n",
    "img_c2 = img.copy()\n",
    "\n",
    "cv2.drawContours(img_c1, contours_none, 0, (0, 0, 255), 15)\n",
    "cv2.drawContours(img_c2, contours_simple, 0, (0, 0, 255), 15)\n",
    "\n",
    "plot_subplot(img_c1, img_c2, 'APPROX_NONE', 'APPROX_SIMPLE')"
   ]
  }
 ],
 "metadata": {
  "kernelspec": {
   "display_name": "Python 3",
   "language": "python",
   "name": "python3"
  },
  "language_info": {
   "codemirror_mode": {
    "name": "ipython",
    "version": 3
   },
   "file_extension": ".py",
   "mimetype": "text/x-python",
   "name": "python",
   "nbconvert_exporter": "python",
   "pygments_lexer": "ipython3",
   "version": "3.6.5"
  }
 },
 "nbformat": 4,
 "nbformat_minor": 2
}
