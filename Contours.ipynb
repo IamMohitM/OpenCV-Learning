{
 "cells": [
  {
   "cell_type": "code",
   "execution_count": 1,
   "metadata": {},
   "outputs": [],
   "source": [
    "import cv2\n",
    "import numpy as np\n",
    "import matplotlib.pyplot as plt\n",
    "\n",
    "%matplotlib inline"
   ]
  },
  {
   "cell_type": "markdown",
   "metadata": {},
   "source": [
    "Contours are simply a curve joining continuous points(along the boundary), having same color and intensity. Contours are useful for shape analysis and object dection and recognition.\n",
    "\n",
    "- For better accuracy, use binary images. So before finding contours, apply threshold or canny edge detection.\n",
    "- findContours function modifies the source image. So if you want source image even after finding contours, already store it to some other variables\n",
    "- In OpenCV, finding a contour is like finding a white object from a black background. So, object to be found should be white and background should be black."
   ]
  },
  {
   "cell_type": "code",
   "execution_count": 2,
   "metadata": {},
   "outputs": [],
   "source": [
    "img = cv2.imread('images/binary.png')\n",
    "img_gray = cv2.cvtColor(img, cv2.COLOR_BGR2GRAY)\n",
    "ret, thresh = cv2.threshold(img_gray, 127, 255, 0)\n",
    "image, contours, hierarchy = cv2.findContours(thresh,cv2.RETR_TREE,cv2.CHAIN_APPROX_SIMPLE)"
   ]
  },
  {
   "cell_type": "code",
   "execution_count": 3,
   "metadata": {
    "collapsed": true
   },
   "outputs": [
    {
     "data": {
      "text/plain": [
       "[array([[[ 19, 180]],\n",
       " \n",
       "        [[ 19, 181]],\n",
       " \n",
       "        [[ 21, 181]],\n",
       " \n",
       "        [[ 21, 180]]], dtype=int32), array([[[219, 175]],\n",
       " \n",
       "        [[219, 176]],\n",
       " \n",
       "        [[221, 176]],\n",
       " \n",
       "        [[220, 175]]], dtype=int32), array([[[157, 111]],\n",
       " \n",
       "        [[156, 112]],\n",
       " \n",
       "        [[152, 112]],\n",
       " \n",
       "        [[151, 113]],\n",
       " \n",
       "        [[147, 113]],\n",
       " \n",
       "        [[146, 114]],\n",
       " \n",
       "        [[144, 114]],\n",
       " \n",
       "        [[143, 115]],\n",
       " \n",
       "        [[133, 115]],\n",
       " \n",
       "        [[132, 116]],\n",
       " \n",
       "        [[127, 116]],\n",
       " \n",
       "        [[126, 117]],\n",
       " \n",
       "        [[120, 117]],\n",
       " \n",
       "        [[119, 118]],\n",
       " \n",
       "        [[118, 118]],\n",
       " \n",
       "        [[117, 119]],\n",
       " \n",
       "        [[113, 119]],\n",
       " \n",
       "        [[112, 120]],\n",
       " \n",
       "        [[106, 120]],\n",
       " \n",
       "        [[105, 121]],\n",
       " \n",
       "        [[104, 121]],\n",
       " \n",
       "        [[103, 122]],\n",
       " \n",
       "        [[102, 121]],\n",
       " \n",
       "        [[101, 122]],\n",
       " \n",
       "        [[ 94, 122]],\n",
       " \n",
       "        [[ 92, 124]],\n",
       " \n",
       "        [[ 92, 126]],\n",
       " \n",
       "        [[ 98, 132]],\n",
       " \n",
       "        [[ 98, 133]],\n",
       " \n",
       "        [[101, 136]],\n",
       " \n",
       "        [[103, 136]],\n",
       " \n",
       "        [[104, 137]],\n",
       " \n",
       "        [[105, 137]],\n",
       " \n",
       "        [[108, 140]],\n",
       " \n",
       "        [[108, 143]],\n",
       " \n",
       "        [[111, 146]],\n",
       " \n",
       "        [[112, 146]],\n",
       " \n",
       "        [[114, 148]],\n",
       " \n",
       "        [[115, 148]],\n",
       " \n",
       "        [[122, 155]],\n",
       " \n",
       "        [[123, 155]],\n",
       " \n",
       "        [[126, 158]],\n",
       " \n",
       "        [[127, 158]],\n",
       " \n",
       "        [[131, 162]],\n",
       " \n",
       "        [[131, 163]],\n",
       " \n",
       "        [[132, 163]],\n",
       " \n",
       "        [[135, 166]],\n",
       " \n",
       "        [[135, 168]],\n",
       " \n",
       "        [[138, 171]],\n",
       " \n",
       "        [[141, 171]],\n",
       " \n",
       "        [[143, 169]],\n",
       " \n",
       "        [[143, 166]],\n",
       " \n",
       "        [[144, 165]],\n",
       " \n",
       "        [[144, 161]],\n",
       " \n",
       "        [[145, 160]],\n",
       " \n",
       "        [[145, 158]],\n",
       " \n",
       "        [[146, 157]],\n",
       " \n",
       "        [[146, 156]],\n",
       " \n",
       "        [[147, 155]],\n",
       " \n",
       "        [[146, 154]],\n",
       " \n",
       "        [[147, 153]],\n",
       " \n",
       "        [[147, 151]],\n",
       " \n",
       "        [[148, 150]],\n",
       " \n",
       "        [[148, 149]],\n",
       " \n",
       "        [[149, 148]],\n",
       " \n",
       "        [[149, 146]],\n",
       " \n",
       "        [[150, 145]],\n",
       " \n",
       "        [[150, 140]],\n",
       " \n",
       "        [[152, 138]],\n",
       " \n",
       "        [[152, 134]],\n",
       " \n",
       "        [[153, 133]],\n",
       " \n",
       "        [[153, 128]],\n",
       " \n",
       "        [[154, 127]],\n",
       " \n",
       "        [[154, 126]],\n",
       " \n",
       "        [[156, 124]],\n",
       " \n",
       "        [[156, 123]],\n",
       " \n",
       "        [[157, 122]],\n",
       " \n",
       "        [[157, 120]],\n",
       " \n",
       "        [[160, 117]],\n",
       " \n",
       "        [[160, 116]],\n",
       " \n",
       "        [[161, 115]],\n",
       " \n",
       "        [[161, 114]],\n",
       " \n",
       "        [[158, 111]]], dtype=int32), array([[[134, 125]],\n",
       " \n",
       "        [[135, 124]],\n",
       " \n",
       "        [[140, 124]],\n",
       " \n",
       "        [[141, 125]],\n",
       " \n",
       "        [[143, 125]],\n",
       " \n",
       "        [[146, 128]],\n",
       " \n",
       "        [[146, 130]],\n",
       " \n",
       "        [[144, 132]],\n",
       " \n",
       "        [[144, 133]],\n",
       " \n",
       "        [[143, 134]],\n",
       " \n",
       "        [[143, 136]],\n",
       " \n",
       "        [[142, 137]],\n",
       " \n",
       "        [[142, 139]],\n",
       " \n",
       "        [[141, 140]],\n",
       " \n",
       "        [[141, 142]],\n",
       " \n",
       "        [[140, 143]],\n",
       " \n",
       "        [[141, 144]],\n",
       " \n",
       "        [[140, 145]],\n",
       " \n",
       "        [[140, 146]],\n",
       " \n",
       "        [[139, 147]],\n",
       " \n",
       "        [[139, 149]],\n",
       " \n",
       "        [[136, 152]],\n",
       " \n",
       "        [[132, 152]],\n",
       " \n",
       "        [[131, 151]],\n",
       " \n",
       "        [[129, 151]],\n",
       " \n",
       "        [[120, 142]],\n",
       " \n",
       "        [[120, 141]],\n",
       " \n",
       "        [[117, 138]],\n",
       " \n",
       "        [[116, 138]],\n",
       " \n",
       "        [[114, 136]],\n",
       " \n",
       "        [[113, 136]],\n",
       " \n",
       "        [[111, 134]],\n",
       " \n",
       "        [[111, 131]],\n",
       " \n",
       "        [[114, 128]],\n",
       " \n",
       "        [[115, 128]],\n",
       " \n",
       "        [[116, 127]],\n",
       " \n",
       "        [[120, 127]],\n",
       " \n",
       "        [[121, 126]],\n",
       " \n",
       "        [[126, 126]],\n",
       " \n",
       "        [[127, 127]],\n",
       " \n",
       "        [[128, 126]],\n",
       " \n",
       "        [[131, 126]],\n",
       " \n",
       "        [[132, 125]]], dtype=int32), array([[[49, 82]],\n",
       " \n",
       "        [[48, 83]],\n",
       " \n",
       "        [[48, 86]],\n",
       " \n",
       "        [[47, 87]],\n",
       " \n",
       "        [[47, 88]],\n",
       " \n",
       "        [[46, 89]],\n",
       " \n",
       "        [[46, 91]],\n",
       " \n",
       "        [[45, 92]],\n",
       " \n",
       "        [[45, 93]],\n",
       " \n",
       "        [[46, 94]],\n",
       " \n",
       "        [[46, 93]],\n",
       " \n",
       "        [[47, 92]],\n",
       " \n",
       "        [[47, 89]],\n",
       " \n",
       "        [[49, 87]],\n",
       " \n",
       "        [[49, 84]],\n",
       " \n",
       "        [[50, 83]],\n",
       " \n",
       "        [[50, 82]]], dtype=int32), array([[[23, 71]],\n",
       " \n",
       "        [[24, 72]],\n",
       " \n",
       "        [[24, 71]]], dtype=int32), array([[[200,  50]],\n",
       " \n",
       "        [[199,  51]],\n",
       " \n",
       "        [[200,  51]]], dtype=int32), array([[[62, 33]],\n",
       " \n",
       "        [[62, 34]],\n",
       " \n",
       "        [[63, 34]],\n",
       " \n",
       "        [[63, 33]]], dtype=int32), array([[[139,  29]],\n",
       " \n",
       "        [[138,  30]],\n",
       " \n",
       "        [[137,  30]],\n",
       " \n",
       "        [[137,  31]],\n",
       " \n",
       "        [[139,  31]],\n",
       " \n",
       "        [[140,  30]],\n",
       " \n",
       "        [[141,  30]],\n",
       " \n",
       "        [[142,  29]],\n",
       " \n",
       "        [[143,  30]],\n",
       " \n",
       "        [[144,  29]]], dtype=int32), array([[[24, 20]],\n",
       " \n",
       "        [[23, 21]],\n",
       " \n",
       "        [[24, 21]]], dtype=int32)]"
      ]
     },
     "execution_count": 3,
     "metadata": {},
     "output_type": "execute_result"
    }
   ],
   "source": [
    "#contours"
   ]
  },
  {
   "cell_type": "markdown",
   "metadata": {},
   "source": [
    "There are three arguments in cv2.findContours() function, first one is source image, second is contour retrieval mode, third is contour approximation method.  contours is a Python list of all the contours in the image. Each individual contour is a Numpy array of (x,y) coordinates of boundary points of the object."
   ]
  },
  {
   "cell_type": "markdown",
   "metadata": {},
   "source": [
    "##### How to draw contours\n",
    "\n",
    "To draw contours **cv2.drawContours()** is used. It can also be used to draw any shape provided you has boundary points. The function can also be used to draw any shape if provided with boundary points. Its first argument is source image, second argument is the contours which should be passed as a Python list, third argument is index of contours (useful when drawing individual contour. To draw all contours, pass -1) and remaining arguments are color, thickness etc."
   ]
  },
  {
   "cell_type": "code",
   "execution_count": 5,
   "metadata": {},
   "outputs": [
    {
     "data": {
      "image/png": "[encoded data removed]",
      "text/plain": [
       "<Figure size 432x288 with 1 Axes>"
      ]
     },
     "metadata": {},
     "output_type": "display_data"
    }
   ],
   "source": [
    "img_copy = img.copy()\n",
    "cv2.drawContours(img_copy, contours, -1, (255, 0, 0), 2)\n",
    "plt.imshow(img_copy);"
   ]
  },
  {
   "cell_type": "markdown",
   "metadata": {},
   "source": [
    "To draw Individual contours:"
   ]
  },
  {
   "cell_type": "code",
   "execution_count": 45,
   "metadata": {},
   "outputs": [
    {
     "data": {
      "image/png": "[encoded data removed]",
      "text/plain": [
       "<Figure size 432x288 with 1 Axes>"
      ]
     },
     "metadata": {},
     "output_type": "display_data"
    }
   ],
   "source": [
    "img_copy = img.copy()\n",
    "cv2.drawContours(img_copy, contours, 3, (255, 0, 0), 2) #Draws fourth contour\n",
    "plt.imshow(img_copy);"
   ]
  },
  {
   "cell_type": "code",
   "execution_count": 46,
   "metadata": {},
   "outputs": [
    {
     "data": {
      "image/png": "[encoded data removed]",
      "text/plain": [
       "<Figure size 432x288 with 1 Axes>"
      ]
     },
     "metadata": {},
     "output_type": "display_data"
    }
   ],
   "source": [
    "img_copy = img.copy()\n",
    "cnt = contours[3]\n",
    "cv2.drawContours(img_copy, [cnt], 0, (255, 0, 0), 2) #Draws fourth contour\n",
    "plt.imshow(img_copy);"
   ]
  },
  {
   "cell_type": "markdown",
   "metadata": {},
   "source": [
    "> Last two methods are same, but the seconds one is more useful."
   ]
  },
  {
   "cell_type": "markdown",
   "metadata": {},
   "source": [
    "##### Contour Approximation Method\n",
    "\n",
    "Third arg of **cv2.findContours()**\n",
    "\n",
    "We know that contours are the boundaries of a shape with same intensity. It stores (x,y) coordinates of the boundary of a shape. But does it store all the coordinates? That is specified by this contour approximation method. \n",
    "\n",
    "**cv2.CHAIN_APPROX_NONE** - all the boundary points are stored. But usually we don't need all the points. For instance, a contour of a stright line needs only two points.\n",
    "\n",
    "**cv2.CHAIN_APPROX_SIMPLE** - removes all redundant points and compresses the contour, thereby saving memory."
   ]
  },
  {
   "cell_type": "code",
   "execution_count": 79,
   "metadata": {},
   "outputs": [],
   "source": [
    "def plot_subplot(img1, img2, title1, title2):\n",
    "    plt.figure(figsize=(15, 6))\n",
    "    plt.subplot(121)\n",
    "    plt.imshow(img1, 'gray')\n",
    "    plt.title(title1)\n",
    "    plt.xticks([])\n",
    "    plt.yticks([]);\n",
    "\n",
    "    plt.subplot(122)\n",
    "    plt.imshow(img2, 'gray')\n",
    "    plt.title(title2)\n",
    "    plt.xticks([])\n",
    "    plt.yticks([]);"
   ]
  },
  {
   "cell_type": "code",
   "execution_count": 90,
   "metadata": {},
   "outputs": [
    {
     "data": {
      "image/png": "[encoded data removed]",
      "text/plain": [
       "<Figure size 1080x432 with 2 Axes>"
      ]
     },
     "metadata": {},
     "output_type": "display_data"
    }
   ],
   "source": [
    "img = cv2.imread('images/binary_rect.png')\n",
    "img = cv2.cvtColor(img, cv2.COLOR_BGR2GRAY)\n",
    "ret, img_thresh = cv2.threshold(img, 127, 255, 0)\n",
    "image1, contours_none, hierarchy = cv2.findContours(img_thresh,cv2.RETR_TREE,cv2.CHAIN_APPROX_NONE)\n",
    "image2, contours_simple, hierarchy = cv2.findContours(img_thresh,cv2.RETR_TREE,cv2.CHAIN_APPROX_SIMPLE)\n",
    "img_c1 = img.copy()\n",
    "img_c2 = img.copy()\n",
    "\n",
    "cv2.drawContours(img_c1, contours_none, 0, (0, 0, 255), 15)\n",
    "cv2.drawContours(img_c2, contours_simple, 0, (0, 0, 255), 15)\n",
    "\n",
    "plot_subplot(img_c1, img_c2, 'APPROX_NONE', 'APPROX_SIMPLE')"
   ]
  },
  {
   "cell_type": "markdown",
   "metadata": {},
   "source": [
    "### Contour Features\n",
    "\n",
    "##### 1. Moments\n",
    "\n",
    "Image moments help you calculate some features like center of mass of the object, area of the object etc. \n",
    "\n",
    "**cv2.moments()** gives a dictionary of all moment values.\n"
   ]
  },
  {
   "cell_type": "code",
   "execution_count": 94,
   "metadata": {},
   "outputs": [
    {
     "data": {
      "text/plain": [
       "{'m00': 11700.0,\n",
       " 'm10': 1275300.0,\n",
       " 'm01': 1357200.0,\n",
       " 'm20': 160945200.0,\n",
       " 'm11': 147934800.0,\n",
       " 'm02': 163367100.0,\n",
       " 'm30': 22325401800.0,\n",
       " 'm21': 18669643200.0,\n",
       " 'm12': 17807013900.0,\n",
       " 'm03': 20326784400.0,\n",
       " 'mu20': 21937500.0,\n",
       " 'mu11': 0.0,\n",
       " 'mu02': 5931900.0,\n",
       " 'mu30': 0.0,\n",
       " 'mu21': 0.0,\n",
       " 'mu12': 0.0,\n",
       " 'mu03': 0.0,\n",
       " 'nu20': 0.16025641025641024,\n",
       " 'nu11': 0.0,\n",
       " 'nu02': 0.04333333333333333,\n",
       " 'nu30': 0.0,\n",
       " 'nu21': 0.0,\n",
       " 'nu12': 0.0,\n",
       " 'nu03': 0.0}"
      ]
     },
     "execution_count": 94,
     "metadata": {},
     "output_type": "execute_result"
    }
   ],
   "source": [
    "cnt = contours_simple[0]\n",
    "M = cv2.moments(cnt)\n",
    "M"
   ]
  },
  {
   "cell_type": "markdown",
   "metadata": {},
   "source": [
    "From this moments, you can extract useful data like area, centroid etc. Centroid is given by the relations, C_x = M_{10}}/{M_{00}} and C_y = {M_{01}}/{M_{00}}. This can be done as follows:"
   ]
  },
  {
   "cell_type": "code",
   "execution_count": 95,
   "metadata": {},
   "outputs": [],
   "source": [
    "cx = int(M['m10']/M['m00'])\n",
    "cy = int(M['m01']/M['m00'])"
   ]
  },
  {
   "cell_type": "code",
   "execution_count": 98,
   "metadata": {},
   "outputs": [
    {
     "data": {
      "text/plain": [
       "(109, 116)"
      ]
     },
     "execution_count": 98,
     "metadata": {},
     "output_type": "execute_result"
    }
   ],
   "source": [
    "cx, cy"
   ]
  },
  {
   "cell_type": "code",
   "execution_count": 104,
   "metadata": {},
   "outputs": [
    {
     "data": {
      "image/png": "[encoded data removed]",
      "text/plain": [
       "<Figure size 432x288 with 1 Axes>"
      ]
     },
     "metadata": {},
     "output_type": "display_data"
    }
   ],
   "source": [
    "plt.imshow(img[cx-60:cx+60, cy-60:cy+60], 'gray');"
   ]
  },
  {
   "cell_type": "markdown",
   "metadata": {},
   "source": [
    "##### 2. Contour Area\n"
   ]
  },
  {
   "cell_type": "code",
   "execution_count": 103,
   "metadata": {},
   "outputs": [
    {
     "data": {
      "text/plain": [
       "11700.0"
      ]
     },
     "execution_count": 103,
     "metadata": {},
     "output_type": "execute_result"
    }
   ],
   "source": [
    "area = cv2.contourArea(cnt) #or M['moo']\n",
    "area"
   ]
  },
  {
   "cell_type": "markdown",
   "metadata": {},
   "source": [
    "##### 3. Contour Perimeter\n",
    "\n",
    "Also called Arc Length. Second argument specify whether shape is a closed contour (if passed True), or just a curve.\n",
    "\n"
   ]
  },
  {
   "cell_type": "code",
   "execution_count": 115,
   "metadata": {},
   "outputs": [
    {
     "data": {
      "text/plain": [
       "456.0"
      ]
     },
     "execution_count": 115,
     "metadata": {},
     "output_type": "execute_result"
    }
   ],
   "source": [
    "per = cv2.arcLength(cnt, True)\n",
    "per"
   ]
  },
  {
   "cell_type": "markdown",
   "metadata": {},
   "source": [
    "##### 4. checking Convexity\n",
    "\n",
    "A function to check if a curve is convex or not, **cv2.isContourConvex**."
   ]
  },
  {
   "cell_type": "code",
   "execution_count": 116,
   "metadata": {},
   "outputs": [
    {
     "data": {
      "text/plain": [
       "True"
      ]
     },
     "execution_count": 116,
     "metadata": {},
     "output_type": "execute_result"
    }
   ],
   "source": [
    "cv2.isContourConvex(cnt)"
   ]
  },
  {
   "cell_type": "markdown",
   "metadata": {},
   "source": [
    "##### 5. Contour Approximation\n",
    "\n",
    "It approximates a contour shape to another shape with less number of vertices depending upon the precision we specify. It is an implementation of **Douglas-Peucker Algorithm**. \n",
    "\n",
    "Suppose we are trying to find a square in an image, but due to some problems in the image, we didn't get a perfect square, but a 'bad shape'.  We can use **cv2.approxPolyDP** function to approximate the shape. In this, second argument is called epsilon, which is maximum distance from contour to approximated contour. It is an accuracy parameter. A wise selection of epsilon is needed to get the correct output."
   ]
  },
  {
   "cell_type": "code",
   "execution_count": 130,
   "metadata": {},
   "outputs": [],
   "source": [
    "img = cv2.imread('images/binary_image.png')\n",
    "img_gray = cv2.cvtColor(img, cv2.COLOR_BGR2GRAY)\n",
    "ret, thresh = cv2.threshold(img_gray, 127, 255, 0)\n",
    "\n",
    "image, contours, heir = cv2.findContours(thresh, cv2.RETR_TREE, cv2.CHAIN_APPROX_SIMPLE)\n",
    "cnt = contours[0]\n",
    "\n",
    "epsilon = 0.01*cv2.arcLength(cnt,True)\n",
    "eps2 = 0.1*cv2.arcLength(cnt,True)\n",
    "approx1 = cv2.approxPolyDP(cnt,epsilon,True)\n",
    "approx2 = cv2.approxPolyDP(cnt,eps2,True)"
   ]
  },
  {
   "cell_type": "code",
   "execution_count": 131,
   "metadata": {},
   "outputs": [
    {
     "data": {
      "text/plain": [
       "array([[[196, 176]],\n",
       "\n",
       "       [[186, 180]],\n",
       "\n",
       "       [[180, 186]],\n",
       "\n",
       "       [[176, 196]],\n",
       "\n",
       "       [[176, 204]],\n",
       "\n",
       "       [[180, 214]],\n",
       "\n",
       "       [[186, 220]],\n",
       "\n",
       "       [[195, 224]],\n",
       "\n",
       "       [[205, 224]],\n",
       "\n",
       "       [[214, 220]],\n",
       "\n",
       "       [[220, 214]],\n",
       "\n",
       "       [[224, 205]],\n",
       "\n",
       "       [[224, 195]],\n",
       "\n",
       "       [[220, 186]],\n",
       "\n",
       "       [[214, 180]],\n",
       "\n",
       "       [[204, 176]]], dtype=int32)"
      ]
     },
     "execution_count": 131,
     "metadata": {},
     "output_type": "execute_result"
    }
   ],
   "source": [
    "approx1\n"
   ]
  },
  {
   "cell_type": "code",
   "execution_count": 132,
   "metadata": {},
   "outputs": [
    {
     "data": {
      "text/plain": [
       "array([[[196, 176]],\n",
       "\n",
       "       [[176, 204]],\n",
       "\n",
       "       [[205, 224]],\n",
       "\n",
       "       [[224, 195]]], dtype=int32)"
      ]
     },
     "execution_count": 132,
     "metadata": {},
     "output_type": "execute_result"
    }
   ],
   "source": [
    "approx2"
   ]
  },
  {
   "cell_type": "code",
   "execution_count": 134,
   "metadata": {},
   "outputs": [
    {
     "data": {
      "text/plain": [
       "<matplotlib.image.AxesImage at 0x1e9e20f2ba8>"
      ]
     },
     "execution_count": 134,
     "metadata": {},
     "output_type": "execute_result"
    },
    {
     "data": {
      "image/png": "[encoded data removed]",
      "text/plain": [
       "<Figure size 432x288 with 1 Axes>"
      ]
     },
     "metadata": {},
     "output_type": "display_data"
    }
   ],
   "source": [
    "img_copy = img.copy()\n",
    "plt.imshow(cv2.drawContours(img_copy, approx1, -1, (0, 255, 0), 3))"
   ]
  },
  {
   "cell_type": "code",
   "execution_count": 135,
   "metadata": {},
   "outputs": [
    {
     "data": {
      "text/plain": [
       "<matplotlib.image.AxesImage at 0x1e9e27cd080>"
      ]
     },
     "execution_count": 135,
     "metadata": {},
     "output_type": "execute_result"
    },
    {
     "data": {
      "image/png": "[encoded data removed]",
      "text/plain": [
       "<Figure size 432x288 with 1 Axes>"
      ]
     },
     "metadata": {},
     "output_type": "display_data"
    }
   ],
   "source": [
    "img_copy = img.copy()\n",
    "plt.imshow(cv2.drawContours(img_copy, approx2, -1, (0, 255, 0), 3))"
   ]
  },
  {
   "cell_type": "markdown",
   "metadata": {},
   "source": [
    "##### 6. Convex Hull\n",
    "\n",
    "cv2.functions check a curve for convexity defects and corrects it. Convex curves are the curves which are alwaus bluged out, or at least flat. And if it is bulged inside, it is called convexity defects."
   ]
  },
  {
   "cell_type": "code",
   "execution_count": 188,
   "metadata": {},
   "outputs": [],
   "source": [
    "img = cv2.imread('images/Convex-Concave.png')\n",
    "gray = cv2.cvtColor(img, cv2.COLOR_BGR2GRAY)\n",
    "_, thresh = cv2.threshold(gray, 50, 255, cv2.THRESH_BINARY)\n",
    "im, contours, hierarchy =cv2.findContours(thresh, cv2.RETR_TREE, cv2.CHAIN_APPROX_SIMPLE) "
   ]
  },
  {
   "cell_type": "code",
   "execution_count": 189,
   "metadata": {},
   "outputs": [],
   "source": [
    "hull = []\n",
    "\n",
    "for i in range(len(contours)):\n",
    "    hull.append(cv2.convexHull(contours[i], False))"
   ]
  },
  {
   "cell_type": "code",
   "execution_count": 190,
   "metadata": {},
   "outputs": [],
   "source": [
    "drawing = np.zeros((thresh.shape[0], thresh.shape[1], 3), np.uint8)\n",
    "color_contours = (0, 255, 0)\n",
    "color = (255, 0, 0)\n",
    "for i in range(len(contours)):\n",
    "    cv2.drawContours(drawing, contours, i, color_contours, 5, 8, hierarchy)\n",
    "    cv2.drawContours(drawing, hull, i, color, 5, 8)"
   ]
  },
  {
   "cell_type": "code",
   "execution_count": 191,
   "metadata": {},
   "outputs": [
    {
     "data": {
      "text/plain": [
       "<matplotlib.image.AxesImage at 0x188354b9fd0>"
      ]
     },
     "execution_count": 191,
     "metadata": {},
     "output_type": "execute_result"
    },
    {
     "data": {
      "image/png": "[encoded data removed]",
      "text/plain": [
       "<Figure size 432x288 with 1 Axes>"
      ]
     },
     "metadata": {},
     "output_type": "display_data"
    }
   ],
   "source": [
    "plt.imshow(drawing, 'gray')"
   ]
  },
  {
   "cell_type": "markdown",
   "metadata": {},
   "source": [
    "##### 7. Bounding Rectangle\n",
    "\n",
    "###### Straight Bounding Rectangle\n",
    "\n",
    "Straight rectangle, which doesn't consider rotation of the object. So area of the bounding rectangel won't be minimum. Found using **cv2.boundingRect()**"
   ]
  },
  {
   "cell_type": "code",
   "execution_count": 195,
   "metadata": {},
   "outputs": [],
   "source": [
    "cnt = contours[19]\n",
    "red = (255, 0, 0)"
   ]
  },
  {
   "cell_type": "code",
   "execution_count": 196,
   "metadata": {},
   "outputs": [
    {
     "data": {
      "text/plain": [
       "<matplotlib.image.AxesImage at 0x18835613470>"
      ]
     },
     "execution_count": 196,
     "metadata": {},
     "output_type": "execute_result"
    },
    {
     "data": {
      "image/png": "[encoded data removed]",
      "text/plain": [
       "<Figure size 432x288 with 1 Axes>"
      ]
     },
     "metadata": {},
     "output_type": "display_data"
    }
   ],
   "source": [
    "img_copy = img.copy()\n",
    "x, y,w, h=  cv2.boundingRect(cnt)\n",
    "cv2.rectangle(img_copy, (x, y), (x+w, y+h), red, 3)\n",
    "plt.imshow(img_copy, 'gray')"
   ]
  },
  {
   "cell_type": "markdown",
   "metadata": {},
   "source": [
    "###### Rotated Rectangle\n",
    "\n",
    "bounding rectangle is drawn with minimum area, so it considers the rotation also. The function used is **cv2.minAreaRect()**. It returns a Box2D structure which contains following detals - ( center (x,y), (width, height), angle of rotation ). But to draw this rectangle, we need 4 corners of the rectangle. It is obtained by the function **cv2.boxPoints()**"
   ]
  },
  {
   "cell_type": "code",
   "execution_count": 175,
   "metadata": {},
   "outputs": [
    {
     "data": {
      "text/plain": [
       "<matplotlib.image.AxesImage at 0x18835a09ac8>"
      ]
     },
     "execution_count": 175,
     "metadata": {},
     "output_type": "execute_result"
    },
    {
     "data": {
      "image/png": "[encoded data removed]",
      "text/plain": [
       "<Figure size 432x288 with 1 Axes>"
      ]
     },
     "metadata": {},
     "output_type": "display_data"
    }
   ],
   "source": [
    "img_copy = img.copy()\n",
    "rect = cv2.minAreaRect(cnt)\n",
    "box = cv2.boxPoints(rect)\n",
    "box = np.int0(box)\n",
    "cv2.drawContours(img_copy, [box], 0, (0, 255, 0), 3)\n",
    "plt.imshow(img_copy, 'gray')"
   ]
  },
  {
   "cell_type": "markdown",
   "metadata": {},
   "source": [
    "###### 8. Minimum Enclosing Circle\n",
    "we find the circumcircle of an object using the function cv2.minEnclosingCircle(). It is a circle which completely covers the object with minimum area.\n"
   ]
  },
  {
   "cell_type": "code",
   "execution_count": 184,
   "metadata": {},
   "outputs": [
    {
     "data": {
      "text/plain": [
       "<matplotlib.image.AxesImage at 0x18836dc3d68>"
      ]
     },
     "execution_count": 184,
     "metadata": {},
     "output_type": "execute_result"
    },
    {
     "data": {
      "image/png": "[encoded data removed]",
      "text/plain": [
       "<Figure size 432x288 with 1 Axes>"
      ]
     },
     "metadata": {},
     "output_type": "display_data"
    }
   ],
   "source": [
    "cnt = contours[20]\n",
    "img_copy = img.copy()\n",
    "(x, y), radius = cv2.minEnclosingCircle(cnt)\n",
    "center = (int(x), int(y))\n",
    "radius = int(radius)\n",
    "cv2.circle(img_copy, center, radius, (0, 255, 0), 4)\n",
    "plt.imshow(img_copy, 'gray')"
   ]
  },
  {
   "cell_type": "markdown",
   "metadata": {},
   "source": [
    "###### 9. Fitting an Ellipse\n",
    "\n",
    "It returns the rotated rectangle in which the ellipse is inscribed."
   ]
  },
  {
   "cell_type": "code",
   "execution_count": 186,
   "metadata": {},
   "outputs": [
    {
     "data": {
      "text/plain": [
       "<matplotlib.image.AxesImage at 0x18836e69da0>"
      ]
     },
     "execution_count": 186,
     "metadata": {},
     "output_type": "execute_result"
    },
    {
     "data": {
      "image/png": "[encoded data removed]",
      "text/plain": [
       "<Figure size 432x288 with 1 Axes>"
      ]
     },
     "metadata": {},
     "output_type": "display_data"
    }
   ],
   "source": [
    "ellipse = cv2.fitEllipse(cnt)\n",
    "img_copy = img.copy()\n",
    "cv2.ellipse(img_copy,ellipse,(0, 255, 0),4)\n",
    "plt.imshow(img_copy, 'gray')"
   ]
  },
  {
   "cell_type": "markdown",
   "metadata": {},
   "source": [
    "###### 10. Fitting a Line"
   ]
  },
  {
   "cell_type": "code",
   "execution_count": null,
   "metadata": {},
   "outputs": [],
   "source": [
    "rows,cols = img.shape[:2]\n",
    "[vx,vy,x,y] = cv2.fitLine(cnt, cv2.DIST_L2,0,0.01,0.01)\n",
    "lefty = int((-x*vy/vx) + y)\n",
    "righty = int(((cols-x)*vy/vx)+y)\n",
    "cv2.line(img_copy,(cols-1,righty),(0,lefty),(0,255,0),2)\n"
   ]
  }
 ],
 "metadata": {
  "kernelspec": {
   "display_name": "Python 3",
   "language": "python",
   "name": "python3"
  },
  "language_info": {
   "codemirror_mode": {
    "name": "ipython",
    "version": 3
   },
   "file_extension": ".py",
   "mimetype": "text/x-python",
   "name": "python",
   "nbconvert_exporter": "python",
   "pygments_lexer": "ipython3",
   "version": "3.6.5"
  }
 },
 "nbformat": 4,
 "nbformat_minor": 2
}
