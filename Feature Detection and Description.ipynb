{
 "cells": [
  {
   "cell_type": "code",
   "execution_count": 1,
   "metadata": {},
   "outputs": [],
   "source": [
    "import numpy as np\n",
    "import cv2\n",
    "import matplotlib.pyplot as plt \n",
    "\n",
    "%matplotlib inline"
   ]
  },
  {
   "cell_type": "markdown",
   "metadata": {},
   "source": [
    "Imagine we have a lot of small pieces of images, where we need to assemble them correctly to form a big real image. How do you arrange lots of scrambled image pieces into a big single image? How can you stitch a lot of natural images to a single iamge?\n",
    "\n",
    "We are looking got specific patterns or specific features which are unique, which can be easily tracked, features which can be easily compared. \n",
    "\n",
    "Recognizing features in an image is inherent and easy to humans.\n",
    "\n",
    "Given an image of a building and 2 patches from the image. Consider the first patch is of a flat surface and the second patch is a corner of a roof on the building. The flat surface is spread in many areas, so it's difficult to find the exact location of the first patch. But the corners of a building are easily found out because at corners wherever you mobe htis patch it will look different. So the second patch can be considered a good feature.\n",
    "\n",
    "So corners are good features. How do we find them? Look for the regions in an image which maximum variation when moved(by a small amount) in all region around it. Finding these image features is called **Feature Detection**.\n",
    "\n",
    "Once the features are found, we need to find the same in the other inmages. We take a region around the feature, and search for the same area in other images. We take a region around the feature, we explain it in our own words, like “upper part is blue sky, lower part is building region, on that building there are some glasses etc” and you search for the same area in other images. Basically, you are describing the feature. Similar way, computer also should describe the region around the feature so that it can find it in other images. So called description is called Feature Description. Once you have the features and its description, you can find same features in all images, align them or stitch them."
   ]
  },
  {
   "cell_type": "markdown",
   "metadata": {},
   "source": [
    "### Harris Corner Detection\n",
    "\n",
    "Corners are regions in the image with large vairation in intensity in all the directions. The Harris Corner Detection finds teh difference in intensity for a displacement of (u, v) in all directions.\n",
    "\n",
    "Window function is either a rectangular window or gaussina window which gives weights to pixels underneath.\n",
    "\n",
    "We have to maximize this function for corner detection. That means, we have to maximize the second term in the equation. \n",
    "\n",
    "E(u,v) \\approx \\begin{bmatrix} u & v \\end{bmatrix}* M *\\begin{bmatrix} u \\\\ v \\end{bmatrix}\n",
    "where\n",
    "\n",
    "M = \\sum_{x,y} w(x,y) \\begin{bmatrix}I_x I_x & I_x I_y \\\\\n",
    "                                     I_x I_y & I_y I_y \\end{bmatrix}\n",
    "\n",
    "R = det(M) - k(trace(M))^2\n",
    "\n",
    "So the values of these eigen values decide whether a region is corner, edge or flat.\n",
    "\n",
    "- When |R| is small, which happens when \\lambda_1 and \\lambda_2 are small, the region is flat.\n",
    "- When R<0, which happens when \\lambda_1 >> \\lambda_2 or vice versa, the region is edge.\n",
    "- When R is large, which happens when \\lambda_1 and \\lambda_2 are large and \\lambda_1 \\sim \\lambda_2, the region is a corner.\n",
    "\n",
    "OpenCV has the function **cv2.cornerHarris()**. Its arguments are :\n",
    "\n",
    "- img - Input image, it should be grayscale and float32 type.\n",
    "- blockSize - It is the size of neighbourhood considered for corner detection\n",
    "- ksize - Aperture parameter of Sobel derivative used.\n",
    "- k - Harris detector free parameter in the equation."
   ]
  },
  {
   "cell_type": "code",
   "execution_count": 4,
   "metadata": {},
   "outputs": [
    {
     "data": {
      "text/plain": [
       "<matplotlib.image.AxesImage at 0x1fbea961278>"
      ]
     },
     "execution_count": 4,
     "metadata": {},
     "output_type": "execute_result"
    },
    {
     "data": {
      "image/png": "[encoded data removed]",
      "text/plain": [
       "<Figure size 432x288 with 1 Axes>"
      ]
     },
     "metadata": {},
     "output_type": "display_data"
    }
   ],
   "source": [
    "img = cv2.imread('images/chessboard.png')\n",
    "\n",
    "gray = cv2.cvtColor(img, cv2.COLOR_BGR2GRAY)\n",
    "\n",
    "gray = np.float32(gray)\n",
    "dst = cv2.cornerHarris(gray, 2, 3, 0.04)\n",
    "\n",
    "#result is dilated for marking the corners, not important\n",
    "dst = cv2.dilate(dst, None)\n",
    "\n",
    "img[dst>0.01 * dst.max()] = [255, 0, 0]\n",
    "\n",
    "plt.imshow(img)"
   ]
  },
  {
   "cell_type": "markdown",
   "metadata": {},
   "source": [
    "##### Corner with Subpixel Accuracy\n",
    "\n",
    "Sometimes, you may need to find the corners with maximum accuracy. OpenCV comes with a function cv2.cornerSubPix() which further refines the corners detected with sub-pixel accuracy. Below is an example. As usual, we need to find the harris corners first. Then we pass the centroids of these corners (There may be a bunch of pixels at a corner, we take their centroid) to refine them. Harris corners are marked in red pixels and refined corners are marked in green pixels. For this function, we have to define the criteria when to stop the iteration. We stop it after a specified number of iteration or a certain accuracy is achieved, whichever occurs first. We also need to define the size of neighbourhood it would search for corners.\n"
   ]
  },
  {
   "cell_type": "code",
   "execution_count": 2,
   "metadata": {},
   "outputs": [
    {
     "data": {
      "text/plain": [
       "<matplotlib.image.AxesImage at 0x249dbcbe198>"
      ]
     },
     "execution_count": 2,
     "metadata": {},
     "output_type": "execute_result"
    },
    {
     "data": {
      "image/png": "[encoded data removed]",
      "text/plain": [
       "<Figure size 432x288 with 1 Axes>"
      ]
     },
     "metadata": {},
     "output_type": "display_data"
    }
   ],
   "source": [
    "img = cv2.imread('images/chessboard.png')\n",
    "gray = cv2.cvtColor(img, cv2.COLOR_BGR2GRAY)\n",
    "\n",
    "gray = np.float32(gray)\n",
    "dst = cv2.cornerHarris(gray, 2, 3, 0.04)\n",
    "dst = cv2.dilate(dst, None)\n",
    "ret, dst = cv2.threshold(dst, 0.01*dst.max(), 255, 0)\n",
    "dst = np.uint8(dst)\n",
    "\n",
    "#find centroids\n",
    "ret, labels, stats, centroids = cv2.connectedComponentsWithStats(dst)\n",
    "\n",
    "# define the criteria to stop and refine the corners\n",
    "criteria = (cv2.TERM_CRITERIA_EPS + cv2.TERM_CRITERIA_MAX_ITER, 100, 0.001)\n",
    "corners = cv2.cornerSubPix(gray,np.float32(centroids),(5,5),(-1,-1),criteria)\n",
    "\n",
    "# Now draw them\n",
    "res = np.hstack((centroids,corners))\n",
    "res = np.int0(res)\n",
    "img[res[:,1],res[:,0]]=[0,0,255]\n",
    "img[res[:,3],res[:,2]] = [0,255,0]\n",
    "\n",
    "plt.imshow(img)"
   ]
  },
  {
   "cell_type": "markdown",
   "metadata": {},
   "source": [
    "### Shi-Tomasi Corner Detector & Good Features to Track\n",
    "\n",
    "Scoring function in Shi-Thomasi:\n",
    "\n",
    "R = min(\\lambda_1, \\lambda_2)\n",
    "\n",
    "If it is greater than a trashold value, it is considered as a corner.\n",
    "\n",
    "**cv2.goodFeatureToTrack()** - It finds N strongest corners in the image by Shi-Tomasi method(Harris Corner Detection can al so be specified). Image should be a grayscale image. Specify number of corners you want to find. Specify quality level between 0-1, which denotes the minimum quality of corner below which everyone is rejected. We also provide minimum euclidean distance between corners detected. \n",
    "\n",
    "With this information, the function finds corners in the image. All corners below quality level are rejected. Then it sorts the remaining corners based on quality in descending order. Then function takes first strongest corner, throws away all the nearby corners in the ranage of minimum distance and returns N strongest corners."
   ]
  },
  {
   "cell_type": "code",
   "execution_count": 6,
   "metadata": {},
   "outputs": [
    {
     "data": {
      "text/plain": [
       "(225, 225)"
      ]
     },
     "execution_count": 6,
     "metadata": {},
     "output_type": "execute_result"
    }
   ],
   "source": [
    "img = cv2.imread('images/simple.jpg')\n",
    "gray = cv2.cvtColor(img, cv2.COLORBGR2GRAY)\n",
    "\n",
    "corners = cv2.goodFeaturesToTrack(gray, 25, )"
   ]
  },
  {
   "cell_type": "code",
   "execution_count": null,
   "metadata": {},
   "outputs": [],
   "source": []
  }
 ],
 "metadata": {
  "kernelspec": {
   "display_name": "Python 3",
   "language": "python",
   "name": "python3"
  },
  "language_info": {
   "codemirror_mode": {
    "name": "ipython",
    "version": 3
   },
   "file_extension": ".py",
   "mimetype": "text/x-python",
   "name": "python",
   "nbconvert_exporter": "python",
   "pygments_lexer": "ipython3",
   "version": "3.6.5"
  }
 },
 "nbformat": 4,
 "nbformat_minor": 2
}
